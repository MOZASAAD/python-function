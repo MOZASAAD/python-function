{
 "cells": [
  {
   "cell_type": "code",
   "execution_count": 1,
   "id": "e1f8804d",
   "metadata": {},
   "outputs": [
    {
     "name": "stdout",
     "output_type": "stream",
     "text": [
      "[5, 7, 2, 8] 70 mlaz\n"
     ]
    }
   ],
   "source": [
    "l=[5,7,2,8]\n",
    "x=70\n",
    "y=\"mlaz\"\n",
    "print(l,x,y)"
   ]
  },
  {
   "cell_type": "code",
   "execution_count": null,
   "id": "3b875753",
   "metadata": {},
   "outputs": [],
   "source": []
  },
  {
   "cell_type": "code",
   "execution_count": null,
   "id": "7e1d206a",
   "metadata": {},
   "outputs": [],
   "source": []
  }
 ],
 "metadata": {
  "kernelspec": {
   "display_name": "Python 3 (ipykernel)",
   "language": "python",
   "name": "python3"
  },
  "language_info": {
   "codemirror_mode": {
    "name": "ipython",
    "version": 3
   },
   "file_extension": ".py",
   "mimetype": "text/x-python",
   "name": "python",
   "nbconvert_exporter": "python",
   "pygments_lexer": "ipython3",
   "version": "3.9.12"
  }
 },
 "nbformat": 4,
 "nbformat_minor": 5
}
